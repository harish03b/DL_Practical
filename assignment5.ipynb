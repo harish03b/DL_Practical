{
 "cells": [
  {
   "cell_type": "code",
   "execution_count": 1,
   "id": "cc5862f3-2e54-4c63-b2df-13a3df6ce118",
   "metadata": {},
   "outputs": [],
   "source": [
    "import numpy as np\n",
    "import re\n",
    "import matplotlib.pyplot as plt\n"
   ]
  },
  {
   "cell_type": "code",
   "execution_count": 2,
   "id": "16b4bdae-bf3d-4a9e-9d71-6778e0ee6d95",
   "metadata": {},
   "outputs": [
    {
     "name": "stdout",
     "output_type": "stream",
     "text": [
      "Total words: 62\n",
      "First 20 words: ['we', 'are', 'about', 'to', 'study', 'the', 'idea', 'of', 'a', 'computational', 'process', 'computational', 'processes', 'are', 'abstract', 'beings', 'that', 'inhabit', 'computers', 'as']\n"
     ]
    }
   ],
   "source": [
    "text = \"\"\"We are about to study the idea of a computational process.\n",
    "Computational processes are abstract beings that inhabit computers.\n",
    "As they evolve, processes manipulate other abstract things called data.\n",
    "The evolution of a process is directed by a pattern of rules called a program.\n",
    "People create programs to direct processes. In effect, we conjure the spirits\n",
    "of the computer with our spells.\"\"\"\n",
    "\n",
    "text = re.sub('[^A-Za-z ]+', ' ', text).lower()\n",
    "words = text.split()\n",
    "\n",
    "print(\"Total words:\", len(words))\n",
    "print(\"First 20 words:\", words[:20])\n"
   ]
  },
  {
   "cell_type": "code",
   "execution_count": 3,
   "id": "e365e494-f028-4ab0-91ef-15fa5480f53d",
   "metadata": {},
   "outputs": [
    {
     "name": "stdout",
     "output_type": "stream",
     "text": [
      "Vocabulary size: 44\n",
      "Sample training pair:\n",
      "[(['we', 'are', 'to', 'study'], 'about'), (['are', 'about', 'study', 'the'], 'to'), (['about', 'to', 'the', 'idea'], 'study'), (['to', 'study', 'idea', 'of'], 'the'), (['study', 'the', 'of', 'a'], 'idea')]\n"
     ]
    }
   ],
   "source": [
    "# Create vocabulary\n",
    "vocab = sorted(set(words))\n",
    "vocab_size = len(vocab)\n",
    "print(\"Vocabulary size:\", vocab_size)\n",
    "\n",
    "word_to_idx = {w: i for i, w in enumerate(vocab)}\n",
    "idx_to_word = {i: w for i, w in enumerate(vocab)}\n",
    "\n",
    "window = 2\n",
    "\n",
    "# Generate training data (context, target)\n",
    "data = []\n",
    "for i in range(window, len(words) - window):\n",
    "    context = [words[i - 2], words[i - 1], words[i + 1], words[i + 2]]\n",
    "    target = words[i]\n",
    "    data.append((context, target))\n",
    "\n",
    "print(\"Sample training pair:\")\n",
    "print(data[0:5])\n"
   ]
  },
  {
   "cell_type": "code",
   "execution_count": 4,
   "id": "38ef7b4e-045f-4756-9998-22db7f9c1f95",
   "metadata": {},
   "outputs": [],
   "source": [
    "embed_dim = 10  \n",
    "\n",
    "# Random initialization of weights\n",
    "W1 = np.random.uniform(-1, 1, (vocab_size, embed_dim))    # Input → Hidden\n",
    "W2 = np.random.uniform(-1, 1, (embed_dim, vocab_size))    # Hidden → Output\n"
   ]
  },
  {
   "cell_type": "code",
   "execution_count": 5,
   "id": "edfc7c04-fa43-467b-bd49-b74f7ea33da8",
   "metadata": {},
   "outputs": [],
   "source": [
    "def one_hot(idx):\n",
    "    vec = np.zeros(vocab_size)\n",
    "    vec[idx] = 1\n",
    "    return vec\n",
    "\n",
    "def softmax(x):\n",
    "    exp_x = np.exp(x - np.max(x)) \n",
    "    return exp_x / np.sum(exp_x)\n"
   ]
  },
  {
   "cell_type": "code",
   "execution_count": 6,
   "id": "0fe8ec86-42ea-45cf-af42-af238034feab",
   "metadata": {},
   "outputs": [],
   "source": [
    "def forward(context_idxs):\n",
    "    h = np.mean(W1[context_idxs], axis=0) \n",
    "    \n",
    "    u = np.dot(h, W2)\n",
    "    y_pred = softmax(u)\n",
    "    return h, y_pred\n",
    "\n",
    "\n",
    "def backward(context_idxs, h, y_pred, target_idx, lr=0.03):\n",
    "    global W1, W2\n",
    "    e = y_pred - one_hot(target_idx)\n",
    "    \n",
    "    dW2 = np.outer(h, e)\n",
    "    W2 -= lr * dW2\n",
    "    \n",
    "    dW1 = np.dot(W2, e)\n",
    "    for i in context_idxs:\n",
    "        W1[i] -= lr * dW1 / len(context_idxs)\n"
   ]
  },
  {
   "cell_type": "code",
   "execution_count": 7,
   "id": "11f0ac83-9394-4158-8ac1-2101d82c7f02",
   "metadata": {},
   "outputs": [
    {
     "name": "stdout",
     "output_type": "stream",
     "text": [
      "Epoch 0 | Loss: 3.9840\n",
      "Epoch 10 | Loss: 3.5004\n",
      "Epoch 20 | Loss: 3.0533\n",
      "Epoch 30 | Loss: 2.5905\n",
      "Epoch 40 | Loss: 2.1720\n",
      "Epoch 50 | Loss: 1.8123\n",
      "Epoch 60 | Loss: 1.4959\n",
      "Epoch 70 | Loss: 1.2206\n",
      "Epoch 80 | Loss: 0.9873\n",
      "Epoch 90 | Loss: 0.7949\n"
     ]
    },
    {
     "data": {
      "image/png": "[encoded data removed]",
      "text/plain": [
       "<Figure size 640x480 with 1 Axes>"
      ]
     },
     "metadata": {},
     "output_type": "display_data"
    }
   ],
   "source": [
    "epochs = 100\n",
    "losses = []\n",
    "\n",
    "for epoch in range(epochs):\n",
    "    total_loss = 0\n",
    "    for context, target in data:\n",
    "        context_idxs = [word_to_idx[w] for w in context]\n",
    "        target_idx = word_to_idx[target]\n",
    "        \n",
    "        # Forward\n",
    "        h, y_pred = forward(context_idxs)\n",
    "        \n",
    "        loss = -np.log(y_pred[target_idx] + 1e-9)\n",
    "        total_loss += loss\n",
    "        \n",
    "        # Backward\n",
    "        backward(context_idxs, h, y_pred, target_idx)\n",
    "    \n",
    "    avg_loss = total_loss / len(data)\n",
    "    losses.append(avg_loss)\n",
    "    if epoch % 10 == 0:\n",
    "        print(f\"Epoch {epoch} | Loss: {avg_loss:.4f}\")\n",
    "\n",
    "# Plot training loss\n",
    "plt.plot(range(epochs), losses)\n",
    "plt.title(\"Training Loss per Epoch\")\n",
    "plt.xlabel(\"Epoch\")\n",
    "plt.ylabel(\"Loss\")\n",
    "plt.show()\n"
   ]
  },
  {
   "cell_type": "code",
   "execution_count": 8,
   "id": "b80486a7-ea18-4e62-a94f-ee319ee63237",
   "metadata": {},
   "outputs": [
    {
     "name": "stdout",
     "output_type": "stream",
     "text": [
      " CBOW Model Ready for Prediction!\n",
      "Vocabulary size: 44, Embedding dim: 10\n"
     ]
    },
    {
     "name": "stdin",
     "output_type": "stream",
     "text": [
      "\n",
      "Enter 2-4 context words (or 'exit' to quit):  we are to\n"
     ]
    },
    {
     "name": "stdout",
     "output_type": "stream",
     "text": [
      " Predicted missing word: about\n"
     ]
    },
    {
     "name": "stdin",
     "output_type": "stream",
     "text": [
      "\n",
      "Enter 2-4 context words (or 'exit' to quit):  for a \n"
     ]
    },
    {
     "name": "stdout",
     "output_type": "stream",
     "text": [
      " Predicted missing word: Word for not in vocabulary.\n"
     ]
    },
    {
     "name": "stdin",
     "output_type": "stream",
     "text": [
      "\n",
      "Enter 2-4 context words (or 'exit' to quit):  exit\n"
     ]
    }
   ],
   "source": [
    "def predict(context_words):\n",
    "    try:\n",
    "        context_idxs = [word_to_idx[w] for w in context_words]\n",
    "    except KeyError as e:\n",
    "        return f\"Word {e.args[0]} not in vocabulary.\"\n",
    "    \n",
    "    _, y_pred = forward(context_idxs)\n",
    "    predicted_idx = np.argmax(y_pred)\n",
    "    return idx_to_word[predicted_idx]\n",
    "\n",
    "\n",
    "print(\" CBOW Model Ready for Prediction!\")\n",
    "print(f\"Vocabulary size: {vocab_size}, Embedding dim: {embed_dim}\")\n",
    "\n",
    "while True:\n",
    "    user_input = input(\"\\nEnter 2-4 context words (or 'exit' to quit): \").lower()\n",
    "    if user_input == \"exit\":\n",
    "        break\n",
    "    context = user_input.split()\n",
    "    if len(context) < 2:\n",
    "        print(\"Please enter at least 2 context words.\")\n",
    "        continue\n",
    "    print(\" Predicted missing word:\", predict(context))\n"
   ]
  },
  {
   "cell_type": "code",
   "execution_count": null,
   "id": "d43ca604-0337-45f2-87e6-aa59ee453a90",
   "metadata": {},
   "outputs": [],
   "source": []
  }
 ],
 "metadata": {
  "kernelspec": {
   "display_name": "Python 3 (ipykernel)",
   "language": "python",
   "name": "python3"
  },
  "language_info": {
   "codemirror_mode": {
    "name": "ipython",
    "version": 3
   },
   "file_extension": ".py",
   "mimetype": "text/x-python",
   "name": "python",
   "nbconvert_exporter": "python",
   "pygments_lexer": "ipython3",
   "version": "3.12.6"
  }
 },
 "nbformat": 4,
 "nbformat_minor": 5
}
